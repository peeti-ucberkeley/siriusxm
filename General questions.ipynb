{
 "cells": [
  {
   "cell_type": "code",
   "execution_count": 19,
   "id": "b0fe379d",
   "metadata": {},
   "outputs": [],
   "source": [
    "import pandas as pd\n",
    "import numpy as np\n",
    "import seaborn as sns\n",
    "from scipy import stats\n",
    "import matplotlib.pyplot as plt\n",
    "from datetime import datetime, date\n",
    "import seaborn as sns\n",
    "import warnings\n",
    "warnings.filterwarnings(\"ignore\")"
   ]
  },
  {
   "cell_type": "code",
   "execution_count": 2,
   "id": "e8db5f6a",
   "metadata": {},
   "outputs": [],
   "source": [
    "path = 'datasets/'\n",
    "filename = 'Case Study - Agent Analysis - Data.xlsx'\n",
    "\n",
    "def open_excel(path, filename, sheetname):\n",
    "    df = pd.read_excel(open(path+filename, 'rb'), sheet_name=sheetname)\n",
    "    return df"
   ]
  },
  {
   "cell_type": "code",
   "execution_count": 3,
   "id": "a43dc6c3",
   "metadata": {},
   "outputs": [
    {
     "data": {
      "text/html": [
       "<div>\n",
       "<style scoped>\n",
       "    .dataframe tbody tr th:only-of-type {\n",
       "        vertical-align: middle;\n",
       "    }\n",
       "\n",
       "    .dataframe tbody tr th {\n",
       "        vertical-align: top;\n",
       "    }\n",
       "\n",
       "    .dataframe thead th {\n",
       "        text-align: right;\n",
       "    }\n",
       "</style>\n",
       "<table border=\"1\" class=\"dataframe\">\n",
       "  <thead>\n",
       "    <tr style=\"text-align: right;\">\n",
       "      <th></th>\n",
       "      <th>Transaction Number</th>\n",
       "      <th>Customer ID</th>\n",
       "      <th>AgentID</th>\n",
       "      <th>Partner</th>\n",
       "      <th>Agent Start Date</th>\n",
       "      <th>Primary Skill</th>\n",
       "      <th>Saves</th>\n",
       "      <th>Sales</th>\n",
       "      <th>Time Spent on Call (Seconds)</th>\n",
       "      <th>Expected Life Time Value</th>\n",
       "    </tr>\n",
       "  </thead>\n",
       "  <tbody>\n",
       "    <tr>\n",
       "      <th>0</th>\n",
       "      <td>1246</td>\n",
       "      <td>91123</td>\n",
       "      <td>457896</td>\n",
       "      <td>Partner C</td>\n",
       "      <td>2019-09-20</td>\n",
       "      <td>Saves</td>\n",
       "      <td>1</td>\n",
       "      <td>0</td>\n",
       "      <td>272</td>\n",
       "      <td>201</td>\n",
       "    </tr>\n",
       "    <tr>\n",
       "      <th>1</th>\n",
       "      <td>918</td>\n",
       "      <td>90795</td>\n",
       "      <td>3000</td>\n",
       "      <td>Partner C</td>\n",
       "      <td>2019-09-20</td>\n",
       "      <td>Service</td>\n",
       "      <td>1</td>\n",
       "      <td>1</td>\n",
       "      <td>25</td>\n",
       "      <td>367</td>\n",
       "    </tr>\n",
       "    <tr>\n",
       "      <th>2</th>\n",
       "      <td>1271</td>\n",
       "      <td>91148</td>\n",
       "      <td>457896</td>\n",
       "      <td>Partner C</td>\n",
       "      <td>2019-09-20</td>\n",
       "      <td>Saves</td>\n",
       "      <td>1</td>\n",
       "      <td>0</td>\n",
       "      <td>259</td>\n",
       "      <td>128</td>\n",
       "    </tr>\n",
       "    <tr>\n",
       "      <th>3</th>\n",
       "      <td>915</td>\n",
       "      <td>90792</td>\n",
       "      <td>3000</td>\n",
       "      <td>Partner C</td>\n",
       "      <td>2019-09-20</td>\n",
       "      <td>Service</td>\n",
       "      <td>1</td>\n",
       "      <td>0</td>\n",
       "      <td>54</td>\n",
       "      <td>399</td>\n",
       "    </tr>\n",
       "    <tr>\n",
       "      <th>4</th>\n",
       "      <td>1268</td>\n",
       "      <td>91145</td>\n",
       "      <td>457896</td>\n",
       "      <td>Partner C</td>\n",
       "      <td>2019-09-20</td>\n",
       "      <td>Saves</td>\n",
       "      <td>1</td>\n",
       "      <td>0</td>\n",
       "      <td>228</td>\n",
       "      <td>136</td>\n",
       "    </tr>\n",
       "  </tbody>\n",
       "</table>\n",
       "</div>"
      ],
      "text/plain": [
       "   Transaction Number  Customer ID  AgentID    Partner Agent Start Date  \\\n",
       "0                1246        91123   457896  Partner C       2019-09-20   \n",
       "1                 918        90795     3000  Partner C       2019-09-20   \n",
       "2                1271        91148   457896  Partner C       2019-09-20   \n",
       "3                 915        90792     3000  Partner C       2019-09-20   \n",
       "4                1268        91145   457896  Partner C       2019-09-20   \n",
       "\n",
       "  Primary Skill  Saves  Sales  Time Spent on Call (Seconds)  \\\n",
       "0         Saves      1      0                           272   \n",
       "1       Service      1      1                            25   \n",
       "2         Saves      1      0                           259   \n",
       "3       Service      1      0                            54   \n",
       "4         Saves      1      0                           228   \n",
       "\n",
       "   Expected Life Time Value   \n",
       "0                        201  \n",
       "1                        367  \n",
       "2                        128  \n",
       "3                        399  \n",
       "4                        136  "
      ]
     },
     "execution_count": 3,
     "metadata": {},
     "output_type": "execute_result"
    }
   ],
   "source": [
    "df = open_excel(path,filename,'Data')\n",
    "df.head()"
   ]
  },
  {
   "cell_type": "markdown",
   "id": "7c9bcecf",
   "metadata": {},
   "source": [
    "# List of columns in the data frame"
   ]
  },
  {
   "cell_type": "code",
   "execution_count": 149,
   "id": "f76c20dd",
   "metadata": {},
   "outputs": [
    {
     "data": {
      "text/plain": [
       "['Transaction Number',\n",
       " 'Customer ID',\n",
       " 'AgentID',\n",
       " 'Partner',\n",
       " 'Agent Start Date',\n",
       " 'Primary Skill',\n",
       " 'Saves',\n",
       " 'Sales',\n",
       " 'Time Spent on Call (Seconds)',\n",
       " 'Expected Life Time Value ',\n",
       " 'days_diff',\n",
       " 'AgentTenure']"
      ]
     },
     "execution_count": 149,
     "metadata": {},
     "output_type": "execute_result"
    }
   ],
   "source": [
    "[x for x in df.columns]"
   ]
  },
  {
   "cell_type": "markdown",
   "id": "4b7fa56d",
   "metadata": {},
   "source": [
    "# Adjusted event occur date to '09/20/2019'"
   ]
  },
  {
   "cell_type": "code",
   "execution_count": 11,
   "id": "aacfa17a",
   "metadata": {},
   "outputs": [],
   "source": [
    "def calc_date_dff(d1):\n",
    "    event_occur = '09/20/2019'\n",
    "    datex = datetime.strptime(event_occur, '%m/%d/%Y')\n",
    "    date = datetime.strptime(d1.strftime('%m/%d/%Y'), '%m/%d/%Y')\n",
    "    day_diff = datex-date\n",
    "    no_days = day_diff.days\n",
    "    return no_days\n",
    "    \n",
    "df['AgentTenure'] = df['Agent Start Date'].apply(lambda x: '<30 days' if calc_date_dff(x) >= 0 and calc_date_dff(x) < 30\\\n",
    "                                              else ('30 - 90' if calc_date_dff(x) >= 30 and calc_date_dff(x) < 90\\\n",
    "                                                   else ('90+ days' if calc_date_dff(x) >= 90 else -1)))\n",
    "\n"
   ]
  },
  {
   "cell_type": "markdown",
   "id": "b663ee6f",
   "metadata": {},
   "source": [
    "# Calculate save rate using groupby"
   ]
  },
  {
   "cell_type": "code",
   "execution_count": 14,
   "id": "dcfbde34",
   "metadata": {},
   "outputs": [
    {
     "data": {
      "text/html": [
       "<div>\n",
       "<style scoped>\n",
       "    .dataframe tbody tr th:only-of-type {\n",
       "        vertical-align: middle;\n",
       "    }\n",
       "\n",
       "    .dataframe tbody tr th {\n",
       "        vertical-align: top;\n",
       "    }\n",
       "\n",
       "    .dataframe thead th {\n",
       "        text-align: right;\n",
       "    }\n",
       "</style>\n",
       "<table border=\"1\" class=\"dataframe\">\n",
       "  <thead>\n",
       "    <tr style=\"text-align: right;\">\n",
       "      <th></th>\n",
       "      <th>AgentTenure</th>\n",
       "      <th>save_rate</th>\n",
       "    </tr>\n",
       "  </thead>\n",
       "  <tbody>\n",
       "    <tr>\n",
       "      <th>1</th>\n",
       "      <td>90+ days</td>\n",
       "      <td>64.221364</td>\n",
       "    </tr>\n",
       "    <tr>\n",
       "      <th>0</th>\n",
       "      <td>30 - 90</td>\n",
       "      <td>63.354037</td>\n",
       "    </tr>\n",
       "    <tr>\n",
       "      <th>2</th>\n",
       "      <td>&lt;30 days</td>\n",
       "      <td>54.411765</td>\n",
       "    </tr>\n",
       "  </tbody>\n",
       "</table>\n",
       "</div>"
      ],
      "text/plain": [
       "  AgentTenure  save_rate\n",
       "1    90+ days  64.221364\n",
       "0     30 - 90  63.354037\n",
       "2    <30 days  54.411765"
      ]
     },
     "execution_count": 14,
     "metadata": {},
     "output_type": "execute_result"
    }
   ],
   "source": [
    "sum_save = df.groupby(by=['AgentTenure'])['Saves','Sales'].sum().reset_index()\n",
    "num_call = df.groupby(by=['AgentTenure'])['Transaction Number'].count().reset_index()\n",
    "summary = sum_save.merge(num_call, how='inner',on=['AgentTenure'])\n",
    "summary['save_rate'] = (summary['Saves']/summary['Transaction Number'])*100\n",
    "summary.drop(['Saves', 'Sales', 'Transaction Number'], axis=1).sort_values('save_rate', ascending=False)\n"
   ]
  },
  {
   "cell_type": "code",
   "execution_count": 237,
   "id": "bf7558d2",
   "metadata": {},
   "outputs": [
    {
     "data": {
      "text/html": [
       "<div>\n",
       "<style scoped>\n",
       "    .dataframe tbody tr th:only-of-type {\n",
       "        vertical-align: middle;\n",
       "    }\n",
       "\n",
       "    .dataframe tbody tr th {\n",
       "        vertical-align: top;\n",
       "    }\n",
       "\n",
       "    .dataframe thead th {\n",
       "        text-align: right;\n",
       "    }\n",
       "</style>\n",
       "<table border=\"1\" class=\"dataframe\">\n",
       "  <thead>\n",
       "    <tr style=\"text-align: right;\">\n",
       "      <th></th>\n",
       "      <th>Primary Skill</th>\n",
       "      <th>Saves</th>\n",
       "      <th>Sales</th>\n",
       "      <th>Transaction Number</th>\n",
       "      <th>save_rate</th>\n",
       "    </tr>\n",
       "  </thead>\n",
       "  <tbody>\n",
       "    <tr>\n",
       "      <th>0</th>\n",
       "      <td>Saves</td>\n",
       "      <td>399</td>\n",
       "      <td>301</td>\n",
       "      <td>614</td>\n",
       "      <td>0.649837</td>\n",
       "    </tr>\n",
       "    <tr>\n",
       "      <th>1</th>\n",
       "      <td>Service</td>\n",
       "      <td>325</td>\n",
       "      <td>282</td>\n",
       "      <td>564</td>\n",
       "      <td>0.576241</td>\n",
       "    </tr>\n",
       "    <tr>\n",
       "      <th>2</th>\n",
       "      <td>Technical Support</td>\n",
       "      <td>99</td>\n",
       "      <td>84</td>\n",
       "      <td>168</td>\n",
       "      <td>0.589286</td>\n",
       "    </tr>\n",
       "  </tbody>\n",
       "</table>\n",
       "</div>"
      ],
      "text/plain": [
       "       Primary Skill  Saves  Sales  Transaction Number  save_rate\n",
       "0              Saves    399    301                 614   0.649837\n",
       "1            Service    325    282                 564   0.576241\n",
       "2  Technical Support     99     84                 168   0.589286"
      ]
     },
     "execution_count": 237,
     "metadata": {},
     "output_type": "execute_result"
    }
   ],
   "source": [
    "sumSS = df.groupby(by=['Primary Skill'])['Saves','Sales'].sum().reset_index()\n",
    "n_call = df.groupby(by=['Primary Skill'])['Transaction Number'].count().reset_index()\n",
    "sss= sumSS.merge(n_call, how='inner', on='Primary Skill')\n",
    "sss['save_rate'] = sss.apply(lambda x: x['Saves']/x['Transaction Number'], axis=1)\n",
    "sss"
   ]
  },
  {
   "cell_type": "markdown",
   "id": "8500805c",
   "metadata": {},
   "source": [
    "# Conversion Rate by Partner"
   ]
  },
  {
   "cell_type": "code",
   "execution_count": 16,
   "id": "89cd29db",
   "metadata": {},
   "outputs": [
    {
     "data": {
      "text/html": [
       "<div>\n",
       "<style scoped>\n",
       "    .dataframe tbody tr th:only-of-type {\n",
       "        vertical-align: middle;\n",
       "    }\n",
       "\n",
       "    .dataframe tbody tr th {\n",
       "        vertical-align: top;\n",
       "    }\n",
       "\n",
       "    .dataframe thead th {\n",
       "        text-align: right;\n",
       "    }\n",
       "</style>\n",
       "<table border=\"1\" class=\"dataframe\">\n",
       "  <thead>\n",
       "    <tr style=\"text-align: right;\">\n",
       "      <th></th>\n",
       "      <th>Partner</th>\n",
       "      <th>conversion_rate</th>\n",
       "    </tr>\n",
       "  </thead>\n",
       "  <tbody>\n",
       "    <tr>\n",
       "      <th>0</th>\n",
       "      <td>Partner A</td>\n",
       "      <td>51.096491</td>\n",
       "    </tr>\n",
       "    <tr>\n",
       "      <th>2</th>\n",
       "      <td>Partner C</td>\n",
       "      <td>50.081301</td>\n",
       "    </tr>\n",
       "    <tr>\n",
       "      <th>1</th>\n",
       "      <td>Partner B</td>\n",
       "      <td>45.818182</td>\n",
       "    </tr>\n",
       "  </tbody>\n",
       "</table>\n",
       "</div>"
      ],
      "text/plain": [
       "     Partner  conversion_rate\n",
       "0  Partner A        51.096491\n",
       "2  Partner C        50.081301\n",
       "1  Partner B        45.818182"
      ]
     },
     "execution_count": 16,
     "metadata": {},
     "output_type": "execute_result"
    }
   ],
   "source": [
    "sum_sale = df.groupby(by=['Partner'])['Sales'].sum().reset_index()\n",
    "num_call = df.groupby(by=['Partner'])['Transaction Number'].count().reset_index()\n",
    "summary = sum_sale.merge(num_call, how='inner',on=['Partner'])\n",
    "summary['conversion_rate'] = (summary['Sales']/summary['Transaction Number'])*100\n",
    "summary.drop(['Sales', 'Transaction Number'], axis=1).sort_values('conversion_rate', ascending=False)"
   ]
  },
  {
   "cell_type": "markdown",
   "id": "7de0f675",
   "metadata": {},
   "source": [
    "# 3. How long is the average call?"
   ]
  },
  {
   "cell_type": "code",
   "execution_count": 240,
   "id": "4e03afb4",
   "metadata": {},
   "outputs": [
    {
     "data": {
      "text/plain": [
       "6.132800891530461"
      ]
     },
     "execution_count": 240,
     "metadata": {},
     "output_type": "execute_result"
    }
   ],
   "source": [
    "df['Time Spent on Call (Seconds)'].mean()/60"
   ]
  },
  {
   "cell_type": "code",
   "execution_count": 249,
   "id": "26b9eeb5",
   "metadata": {},
   "outputs": [
    {
     "data": {
      "image/png": "[encoded data removed]",
      "text/plain": [
       "<Figure size 432x288 with 1 Axes>"
      ]
     },
     "metadata": {
      "needs_background": "light"
     },
     "output_type": "display_data"
    }
   ],
   "source": [
    "aht = df.groupby(by='AgentID')['Time Spent on Call (Seconds)'].mean().sort_values(ascending=False).head().reset_index()\n",
    "\n",
    "ax = sns.barplot(\n",
    "    x='AgentID', \n",
    "    y='Time Spent on Call (Seconds)', \n",
    "    data=aht, \n",
    "    estimator=sum, \n",
    "    ci=None, \n",
    "    color='#69b3a2',\n",
    "    order=df.groupby(by='AgentID')['Time Spent on Call (Seconds)'].mean().sort_values(ascending=False).head(5).index,\n",
    ");\n",
    "\n",
    "ax.set(xlabel=\"Agent ID\", ylabel='AHT')\n",
    "for i, v in enumerate(round(aht['Time Spent on Call (Seconds)']/60,3).iteritems()):        \n",
    "    ax.text(i ,v[1], \"{:,} mins\".format(v[1]), color='b', va ='bottom', rotation=90)\n",
    "plt.title(\"Average Time by Rep\")\n",
    "plt.show()"
   ]
  },
  {
   "cell_type": "markdown",
   "id": "848c077a",
   "metadata": {},
   "source": [
    "# 4. Cost per call by Primary Skill?"
   ]
  },
  {
   "cell_type": "code",
   "execution_count": 227,
   "id": "f5582eec",
   "metadata": {},
   "outputs": [
    {
     "data": {
      "text/html": [
       "<div>\n",
       "<style scoped>\n",
       "    .dataframe tbody tr th:only-of-type {\n",
       "        vertical-align: middle;\n",
       "    }\n",
       "\n",
       "    .dataframe tbody tr th {\n",
       "        vertical-align: top;\n",
       "    }\n",
       "\n",
       "    .dataframe thead th {\n",
       "        text-align: right;\n",
       "    }\n",
       "</style>\n",
       "<table border=\"1\" class=\"dataframe\">\n",
       "  <thead>\n",
       "    <tr style=\"text-align: right;\">\n",
       "      <th></th>\n",
       "      <th>Primary Skill</th>\n",
       "      <th>Time Spent on Call (Seconds)</th>\n",
       "      <th>Transaction Number</th>\n",
       "      <th>per_call</th>\n",
       "      <th>Hour</th>\n",
       "      <th>COST</th>\n",
       "    </tr>\n",
       "  </thead>\n",
       "  <tbody>\n",
       "    <tr>\n",
       "      <th>0</th>\n",
       "      <td>Saves</td>\n",
       "      <td>211609</td>\n",
       "      <td>614</td>\n",
       "      <td>344.640065</td>\n",
       "      <td>0.095733</td>\n",
       "      <td>1.723200</td>\n",
       "    </tr>\n",
       "    <tr>\n",
       "      <th>1</th>\n",
       "      <td>Service</td>\n",
       "      <td>213556</td>\n",
       "      <td>564</td>\n",
       "      <td>378.645390</td>\n",
       "      <td>0.105179</td>\n",
       "      <td>1.893227</td>\n",
       "    </tr>\n",
       "    <tr>\n",
       "      <th>2</th>\n",
       "      <td>Technical Support</td>\n",
       "      <td>70120</td>\n",
       "      <td>168</td>\n",
       "      <td>417.380952</td>\n",
       "      <td>0.115939</td>\n",
       "      <td>2.086905</td>\n",
       "    </tr>\n",
       "  </tbody>\n",
       "</table>\n",
       "</div>"
      ],
      "text/plain": [
       "       Primary Skill  Time Spent on Call (Seconds)  Transaction Number  \\\n",
       "0              Saves                        211609                 614   \n",
       "1            Service                        213556                 564   \n",
       "2  Technical Support                         70120                 168   \n",
       "\n",
       "     per_call      Hour      COST  \n",
       "0  344.640065  0.095733  1.723200  \n",
       "1  378.645390  0.105179  1.893227  \n",
       "2  417.380952  0.115939  2.086905  "
      ]
     },
     "execution_count": 227,
     "metadata": {},
     "output_type": "execute_result"
    }
   ],
   "source": [
    "CPC = df.groupby(by='Primary Skill')['Time Spent on Call (Seconds)'].sum().reset_index()\n",
    "cost_per_call = CPC.merge(numOfCall, how='inner', on=['Primary Skill'])\n",
    "cost_per_call['per_call'] = cost_per_call.apply(lambda x: x['Time Spent on Call (Seconds)']/x['Transaction Number'], axis=1)\n",
    "cost_per_call['Hour'] = cost_per_call['per_call'].apply(lambda x: x/60/60)\n",
    "cost_per_call['COST'] = cost_per_call.Hour.apply(lambda x: x*18)\n",
    "cost_per_call\n"
   ]
  },
  {
   "cell_type": "code",
   "execution_count": 232,
   "id": "2e300161",
   "metadata": {},
   "outputs": [
    {
     "data": {
      "image/png": "[encoded data removed]",
      "text/plain": [
       "<Figure size 432x288 with 1 Axes>"
      ]
     },
     "metadata": {},
     "output_type": "display_data"
    }
   ],
   "source": [
    "#define data\n",
    "# dt = cost_per_call[['COST']].reset_index()\n",
    "# dt = dt.iloc[:,-1]\n",
    "# label = CPC[['Primary Skill']].reset_index()\n",
    "# label = label.iloc[:,-1]\n",
    "# # #define Seaborn color palette to use\n",
    "# colors = sns.color_palette('pastel')[0:5]\n",
    "\n",
    "# # #create pie chart\n",
    "# plt.rcParams[\"font.weight\"] = \"bold\"\n",
    "# plt.pie(dt, labels = label,  colors = colors, autopct=lambda p : '{:.1f}%: ${:,.2f}'.format(p,p * sum(dt)/100))\n",
    "# plt.title('Cost per Call by Primary Skill')\n",
    "# plt.show()"
   ]
  },
  {
   "cell_type": "code",
   "execution_count": 261,
   "id": "14958599",
   "metadata": {},
   "outputs": [
    {
     "data": {
      "image/png": "[encoded data removed]",
      "text/plain": [
       "<Figure size 432x288 with 1 Axes>"
      ]
     },
     "metadata": {
      "needs_background": "light"
     },
     "output_type": "display_data"
    }
   ],
   "source": [
    "ax = cost_per_call[['Primary Skill', 'COST']].set_index('Primary Skill').plot.barh()\n",
    "plt.title('Cost per Call by Primary Skill', fontweight='bold')\n",
    "\n",
    "for i, v in enumerate(round(cost_per_call['COST'],2).iteritems()):\n",
    "    ax.text(v[0], i  ,\"${}\".format(v[1]), color='k', \n",
    "                 va='bottom', rotation=0, fontweight='bold')\n",
    "plt.show()"
   ]
  },
  {
   "cell_type": "markdown",
   "id": "e0e3fcb5",
   "metadata": {},
   "source": [
    "# 5. What is the average Lifetime Value, segmented by Saves vs Conversions?"
   ]
  },
  {
   "cell_type": "code",
   "execution_count": 214,
   "id": "75a6f8d5",
   "metadata": {},
   "outputs": [
    {
     "data": {
      "image/png": "[encoded data removed]",
      "text/plain": [
       "<Figure size 432x288 with 1 Axes>"
      ]
     },
     "metadata": {
      "needs_background": "light"
     },
     "output_type": "display_data"
    }
   ],
   "source": [
    "ltv = df.groupby(by=['Saves','Sales'])['Expected Life Time Value '].mean().reset_index()\n",
    "ltv['segment'] = ltv.apply(lambda x: 'No sales or saves' if x['Saves'] == 0 and x['Sales'] == 0\\\n",
    "                           else  ('Only sales, no save' if x.Saves == 0 and x.Sales == 1\\\n",
    "                           else ('Only saves, no sales' if x.Saves == 1 and x.Sales == 0\\\n",
    "                           else ('Both saves and sales' if x.Saves == 1 and x.Sales == 1 else ''))) , axis=1) \n",
    "                        \n",
    "ax = ltv[['segment','Expected Life Time Value ']].set_index('segment').plot.barh()\n",
    "for i, v in enumerate(round(ltv['Expected Life Time Value '],2).iteritems()):\n",
    "    ax.set_title('Average Lifetime Value, segmented by Saves vs Conversions')\n",
    "    ax.text(v[0] + 3 , i  ,\"AVG: {}\".format(v[1]), color='k', \n",
    "                ha='left', va='bottom', rotation=0, fontweight='bold')"
   ]
  },
  {
   "cell_type": "code",
   "execution_count": 215,
   "id": "590082b7",
   "metadata": {},
   "outputs": [
    {
     "data": {
      "text/plain": [
       "Primary Skill\n",
       "Saves                614\n",
       "Service              564\n",
       "Technical Support    168\n",
       "Name: AgentID, dtype: int64"
      ]
     },
     "execution_count": 215,
     "metadata": {},
     "output_type": "execute_result"
    }
   ],
   "source": [
    "df.groupby(by='Primary Skill')['AgentID'].count()"
   ]
  },
  {
   "cell_type": "code",
   "execution_count": 218,
   "id": "91ec9316",
   "metadata": {},
   "outputs": [
    {
     "data": {
      "text/plain": [
       "Primary Skill\n",
       "Saves                614\n",
       "Service              564\n",
       "Technical Support    168\n",
       "Name: Transaction Number, dtype: int64"
      ]
     },
     "execution_count": 218,
     "metadata": {},
     "output_type": "execute_result"
    }
   ],
   "source": [
    "df.groupby(by='Primary Skill')['Transaction Number'].count()"
   ]
  }
 ],
 "metadata": {
  "kernelspec": {
   "display_name": "Python 3",
   "language": "python",
   "name": "python3"
  },
  "language_info": {
   "codemirror_mode": {
    "name": "ipython",
    "version": 3
   },
   "file_extension": ".py",
   "mimetype": "text/x-python",
   "name": "python",
   "nbconvert_exporter": "python",
   "pygments_lexer": "ipython3",
   "version": "3.7.9"
  }
 },
 "nbformat": 4,
 "nbformat_minor": 5
}
